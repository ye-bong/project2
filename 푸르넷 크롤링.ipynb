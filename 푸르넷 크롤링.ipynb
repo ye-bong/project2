{
 "cells": [
  {
   "cell_type": "code",
   "execution_count": 2,
   "id": "dde4f22c",
   "metadata": {},
   "outputs": [],
   "source": [
    "from selenium import webdriver\n",
    "import pandas as pd\n",
    "from selenium.common.exceptions import NoSuchElementException"
   ]
  },
  {
   "cell_type": "code",
   "execution_count": 93,
   "id": "25e18acc",
   "metadata": {},
   "outputs": [],
   "source": [
    "driver = webdriver.Edge()"
   ]
  },
  {
   "cell_type": "code",
   "execution_count": 148,
   "id": "c9db71d1",
   "metadata": {},
   "outputs": [],
   "source": [
    "purunet_search_url = \"https://purunet.kumsung.co.kr/customer/map.jsp\""
   ]
  },
  {
   "cell_type": "code",
   "execution_count": 149,
   "id": "9f012fa2",
   "metadata": {},
   "outputs": [],
   "source": [
    "driver.get(purunet_search_url)"
   ]
  },
  {
   "cell_type": "code",
   "execution_count": 150,
   "id": "1bf943ad",
   "metadata": {},
   "outputs": [],
   "source": [
    "ind=1\n",
    "no=2\n",
    "list=[]"
   ]
  },
  {
   "cell_type": "code",
   "execution_count": 151,
   "id": "57edc95a",
   "metadata": {},
   "outputs": [],
   "source": [
    "while True:\n",
    "        try:\n",
    "            # 영업국\n",
    "            office = driver.find_element(by='xpath', value=f'//*[@id=\"sub_BG\"]/div[2]/div[3]/div[1]/table/tbody/tr[{ind}]/td[1]').text \n",
    "\n",
    "            # 지점\n",
    "            name = driver.find_element(by='xpath', value=f'//*[@id=\"sub_BG\"]/div[2]/div[3]/div[1]/table/tbody/tr[{ind}]/td[2]').text\n",
    "\n",
    "            # 주소\n",
    "            place = driver.find_element(by='xpath', value=f'//*[@id=\"sub_BG\"]/div[2]/div[3]/div[1]/table/tbody/tr[{ind}]/td[3]').text\n",
    "\n",
    "            list.append([office, name, place])\n",
    "            \n",
    "            ind += 1\n",
    "        except:\n",
    "            \n",
    "            if no == 17:\n",
    "                break\n",
    "                \n",
    "            # 지역 선택\n",
    "            elif driver.find_element(by='xpath', value=f'//*[@id=\"sflag\"]/option[{no}]').is_displayed():\n",
    "                no += 1\n",
    "                driver.find_element(by='xpath', value=f'//*[@id=\"sflag\"]/option[{no}]').click()\n",
    "                # 지역 찾기 버튼 클릭\n",
    "                driver.find_element(by='xpath', value=f'//*[@id=\"sub_BG\"]/div[2]/div[2]/form/div/img').click()\n",
    "                ind = 1\n",
    "                continue          "
   ]
  },
  {
   "cell_type": "code",
   "execution_count": 153,
   "id": "fba07c6c",
   "metadata": {},
   "outputs": [],
   "source": [
    "df = pd.DataFrame(list)"
   ]
  },
  {
   "cell_type": "code",
   "execution_count": 158,
   "id": "87f49a9c",
   "metadata": {},
   "outputs": [],
   "source": [
    "df.rename(columns={0:'영업국',1:'지점', 2:'주소'}, inplace=True)"
   ]
  },
  {
   "cell_type": "code",
   "execution_count": 160,
   "id": "fab00948",
   "metadata": {},
   "outputs": [],
   "source": [
    "df.to_csv(\"푸르넷_data.csv\", index=False, encoding=\"utf-8-sig\")"
   ]
  },
  {
   "cell_type": "code",
   "execution_count": null,
   "id": "1fe09f51",
   "metadata": {},
   "outputs": [],
   "source": []
  }
 ],
 "metadata": {
  "kernelspec": {
   "display_name": "Python 3 (ipykernel)",
   "language": "python",
   "name": "python3"
  },
  "language_info": {
   "codemirror_mode": {
    "name": "ipython",
    "version": 3
   },
   "file_extension": ".py",
   "mimetype": "text/x-python",
   "name": "python",
   "nbconvert_exporter": "python",
   "pygments_lexer": "ipython3",
   "version": "3.10.9"
  }
 },
 "nbformat": 4,
 "nbformat_minor": 5
}
